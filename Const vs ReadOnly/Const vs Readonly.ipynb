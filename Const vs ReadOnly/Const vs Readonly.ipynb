{
 "cells": [
  {
   "cell_type": "markdown",
   "metadata": {},
   "source": [
    "## Different Const and ReadOnly\n",
    "### Const\n",
    "`const` only called via *static*, so call it using `Calculator.phi`.\n",
    "And it **must be** assigned with value.\n",
    "### Readonly\n",
    "While `readonly` can only be modified via Constructor of the class.\n",
    "And it can declared empty."
   ]
  },
  {
   "cell_type": "code",
   "execution_count": 12,
   "metadata": {
    "dotnet_interactive": {
     "language": "csharp"
    },
    "polyglot_notebook": {
     "kernelName": "csharp"
    }
   },
   "outputs": [],
   "source": [
    "class Calculator{\n",
    "\tpublic const float phi = 3.14f; //static & must assign the value\n",
    "\tpublic readonly int x; //can empty, modified it from Constructor\n",
    "\tpublic Calculator(int value) {\n",
    "\t\tx = value;\n",
    "\t}\t\n",
    "}"
   ]
  },
  {
   "cell_type": "code",
   "execution_count": 13,
   "metadata": {
    "dotnet_interactive": {
     "language": "csharp"
    },
    "polyglot_notebook": {
     "kernelName": "csharp"
    }
   },
   "outputs": [
    {
     "name": "stdout",
     "output_type": "stream",
     "text": [
      "3.14\n",
      "6\n"
     ]
    }
   ],
   "source": [
    "Calculator calc = new(6);\n",
    "Console.WriteLine(Calculator.phi);\n",
    "Console.WriteLine(calc.x);"
   ]
  }
 ],
 "metadata": {
  "kernelspec": {
   "display_name": ".NET (C#)",
   "language": "C#",
   "name": ".net-csharp"
  },
  "language_info": {
   "name": "polyglot-notebook"
  },
  "polyglot_notebook": {
   "kernelInfo": {
    "defaultKernelName": "csharp",
    "items": [
     {
      "aliases": [],
      "languageName": "csharp",
      "name": "csharp"
     }
    ]
   }
  }
 },
 "nbformat": 4,
 "nbformat_minor": 2
}
